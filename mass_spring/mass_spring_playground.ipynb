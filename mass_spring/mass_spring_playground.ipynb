{
 "cells": [
  {
   "cell_type": "code",
   "execution_count": null,
   "id": "a07c6833-e0cb-4f74-a4a5-80e4ae37e5a4",
   "metadata": {},
   "outputs": [],
   "source": [
    "import sys\n",
    "sys.path.append('/Users/joachim/texjs/lva/ws2324/ScientificComputing/experiments/ASC-ODE/build/mass_spring')\n",
    "from mass_spring import *"
   ]
  },
  {
   "cell_type": "code",
   "execution_count": null,
   "id": "dab700dd-a27a-4dc8-890d-31e6fd576bd7",
   "metadata": {},
   "outputs": [],
   "source": [
    "mss = MassSpringSystem2d()\n",
    "mss.Add (Mass(1, (1,0)))"
   ]
  },
  {
   "cell_type": "code",
   "execution_count": null,
   "id": "6e8713ce-ae2f-465f-be80-c53883d459b2",
   "metadata": {},
   "outputs": [],
   "source": [
    "from pythreejs import *"
   ]
  },
  {
   "cell_type": "code",
   "execution_count": null,
   "id": "0f4fe242-3bae-475e-8267-5f69c6850b9c",
   "metadata": {},
   "outputs": [],
   "source": [
    "sphere = Mesh(\n",
    "    SphereBufferGeometry(1, 32, 16),\n",
    "    MeshStandardMaterial(color='red')\n",
    ")\n",
    "\n",
    "cube = Mesh(\n",
    "    BoxBufferGeometry(1, 1, 1),\n",
    "    MeshPhysicalMaterial(color='green'),\n",
    "    position=[2, 0, 4]\n",
    ")\n",
    "\n",
    "cyl = Mesh(\n",
    "    CylinderGeometry(0.5, 0.5, 2, 16),\n",
    "    MeshPhysicalMaterial(color='blue'),\n",
    "    position=[4, 0, 6]\n",
    ")\n",
    "\n",
    "line1 = Line(\n",
    "    Geometry( vertices= [ [0,0,0], [2,0,4] ]),\n",
    "    LineBasicMaterial(color='blue', linewidth=1),\n",
    "                )\n",
    "\n",
    "objects = [sphere, cube, cyl, line1]"
   ]
  },
  {
   "cell_type": "code",
   "execution_count": null,
   "id": "5b08fa7a-eb28-440f-b059-f3a3205fb7a1",
   "metadata": {},
   "outputs": [],
   "source": [
    "view_width = 600\n",
    "view_height = 400"
   ]
  },
  {
   "cell_type": "code",
   "execution_count": null,
   "id": "0a9699ff-d76c-4b1e-8cfc-cec63302daf9",
   "metadata": {},
   "outputs": [],
   "source": [
    "camera = PerspectiveCamera( position=[10, 6, 10], aspect=view_width/view_height)\n",
    "key_light = DirectionalLight(position=[0, 10, 10])\n",
    "ambient_light = AmbientLight()"
   ]
  },
  {
   "cell_type": "code",
   "execution_count": null,
   "id": "3649562d-059f-48c5-995a-4f59ab5c54c3",
   "metadata": {},
   "outputs": [],
   "source": [
    "scene = Scene(children=[*objects, camera, key_light, ambient_light])\n",
    "controller = OrbitControls(controlling=camera)\n",
    "renderer = Renderer(camera=camera, scene=scene, controls=[controller],\n",
    "                    width=view_width, height=view_height)\n",
    "\n",
    "renderer"
   ]
  },
  {
   "cell_type": "code",
   "execution_count": null,
   "id": "21a1041b-585a-496a-a2e8-8d94e9d7cd41",
   "metadata": {},
   "outputs": [],
   "source": [
    "cyl.position = (1,0,6)\n",
    "sphere.position = (0,0,0)"
   ]
  },
  {
   "cell_type": "code",
   "execution_count": null,
   "id": "aa13c831-3c2d-4370-8835-c6464cbbcb08",
   "metadata": {},
   "outputs": [],
   "source": [
    "line1.geometry.vertices = [(0, 0, 0), (4, 0, 6)]"
   ]
  },
  {
   "cell_type": "code",
   "execution_count": null,
   "id": "86202812-7875-4edd-a9ca-a55e6c4dfe85",
   "metadata": {},
   "outputs": [],
   "source": []
  }
 ],
 "metadata": {
  "kernelspec": {
   "display_name": "Python 3 (ipykernel)",
   "language": "python",
   "name": "python3"
  },
  "language_info": {
   "codemirror_mode": {
    "name": "ipython",
    "version": 3
   },
   "file_extension": ".py",
   "mimetype": "text/x-python",
   "name": "python",
   "nbconvert_exporter": "python",
   "pygments_lexer": "ipython3",
   "version": "3.12.0"
  }
 },
 "nbformat": 4,
 "nbformat_minor": 5
}
